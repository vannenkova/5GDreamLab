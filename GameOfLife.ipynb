{
 "cells": [
  {
   "cell_type": "code",
   "execution_count": 14,
   "metadata": {},
   "outputs": [
    {
     "name": "stdout",
     "output_type": "stream",
     "text": [
      "Игра окончена\n"
     ]
    }
   ],
   "source": [
    "#закрузка неодходимых пакетов\n",
    "import numpy as np\n",
    "import matplotlib.pyplot as plt\n",
    "import statistics as st\n",
    "from IPython import display\n",
    "import time\n",
    "#получение информации о размере поля от пользователя (игрока) \n",
    "ncol = int(input('Введите длину поля (количество клеток) не менее 5: '))\n",
    "nrow = ncol #предполагается, что поле всегда будет квадратным\n",
    "\n",
    "#инициализация поля в начальном состоянии\n",
    "#определение центрального индекса в зависимости от размера поля\n",
    "if ncol%2 != 0:\n",
    "    midpoint = int(st.median(list(range(ncol))))\n",
    "else:\n",
    "    midpoint = int(st.median(list(range((ncol)))) + 0.5)\n",
    "    \n",
    "#создание пустого массива(\"поля\") для дальнейшей визуализации\n",
    "#пустым клеткам соответствуют нули\n",
    "dots = np.zeros((ncol*nrow), dtype=int)\n",
    "#определение индексов клеток в начальном состоянии\n",
    "cell_id = [midpoint + (ncol * (midpoint - 2)), \n",
    "           (midpoint + 1) + (ncol * (midpoint - 1)),\n",
    "           (midpoint - 1) + (ncol * (midpoint - 1)),\n",
    "           (midpoint + 1) + (ncol * midpoint),\n",
    "           (midpoint - 1) + (ncol * midpoint),\n",
    "           (midpoint + 2) + (ncol * midpoint),\n",
    "           (midpoint - 2) + (ncol * midpoint),\n",
    "           (midpoint + 1) + (ncol * (midpoint + 1)),\n",
    "           (midpoint - 1) + (ncol * (midpoint + 1)),\n",
    "           midpoint + (ncol * (midpoint + 2))]\n",
    "filled_values = list([1]*10) #заполненным клеткам соответствуют единицы\n",
    "dots[cell_id] = filled_values #заполнение массива клетками в начальном состоянии\n",
    "\n",
    "game_dots = np.array(dots.reshape((nrow, ncol))) #придание массиву квадратной формы поля\n",
    "fig, ax = plt.subplots() #визуализация поля в начальном состоянии\n",
    "ax.imshow(game_dots, cmap=\"Blues\", vmin=0)\n",
    "plt.show()\n",
    "display.clear_output(wait=True) #подготовка поля для визуализации следующего поколения\n",
    "time.sleep(0.5) #визуализация поколения через каждые полсекунды\n",
    "\n",
    "while sum(dots) > 0: #реализация поколений до тех пор, пока поле не опустеет\n",
    "    neighbourhood = []\n",
    "    for i in range(len(dots)): #определение индексов соседей каждой клетки\n",
    "        id1 = i-ncol\n",
    "        id2 = i+ncol\n",
    "        id3 = i+1\n",
    "        id4 = i-1\n",
    "        id5 = i-ncol+1\n",
    "        id6 = i-ncol-1\n",
    "        id7 = i+ncol+1\n",
    "        id8 = i+ncol-1\n",
    "        id_list = [id1, id2, id3, id4, id5, id6, id7, id8]\n",
    "        neighbours = []\n",
    "        for a in id_list: #исключение индексов, выходящих за пределы поля\n",
    "            if a > -1 and a < (ncol*nrow):\n",
    "                neighbours.append(dots[a])\n",
    "        neighbourhood.append(sum(neighbours)) #поиск количества заполненных соседей для каждой клетки\n",
    "    \n",
    "    #проверка условий для изменения состояния клетки\n",
    "    old_dots = list(dots)\n",
    "    for i in range(len(dots)):\n",
    "        if dots[i] == 0:\n",
    "            if neighbourhood[i] == 3:\n",
    "                dots[i] = 1\n",
    "        elif dots[i] == 1:\n",
    "            if neighbourhood[i] < 2 or neighbourhood[i] > 3:\n",
    "                dots[i] = 0\n",
    "    new_dots = list(dots) \n",
    "    if old_dots != new_dots: #проверка на наличие клеток, подлежащих изменению\n",
    "        game_dots = np.array(dots.reshape((nrow, ncol))) #придание массиву квадратной формы поля\n",
    "        fig, ax = plt.subplots() #визуализация поля в измененном состоянии\n",
    "        ax.imshow(game_dots, cmap=\"Blues\", vmin=0)\n",
    "        plt.show()\n",
    "        display.clear_output(wait=True) #подготовка поля для визуализации следующего поколения\n",
    "        time.sleep(0.5) #визуализация поколения через каждые полсекунды\n",
    "    else:\n",
    "        break\n",
    "\n",
    "print(\"Игра окончена\")"
   ]
  },
  {
   "cell_type": "code",
   "execution_count": null,
   "metadata": {},
   "outputs": [],
   "source": []
  }
 ],
 "metadata": {
  "kernelspec": {
   "display_name": "Python 3",
   "language": "python",
   "name": "python3"
  },
  "language_info": {
   "codemirror_mode": {
    "name": "ipython",
    "version": 3
   },
   "file_extension": ".py",
   "mimetype": "text/x-python",
   "name": "python",
   "nbconvert_exporter": "python",
   "pygments_lexer": "ipython3",
   "version": "3.7.3"
  }
 },
 "nbformat": 4,
 "nbformat_minor": 4
}
